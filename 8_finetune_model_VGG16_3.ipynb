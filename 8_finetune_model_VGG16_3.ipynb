{
 "cells": [
  {
   "cell_type": "code",
   "execution_count": 1,
   "metadata": {},
   "outputs": [
    {
     "name": "stderr",
     "output_type": "stream",
     "text": [
      "Using TensorFlow backend.\n"
     ]
    }
   ],
   "source": [
    "#import dependencies \n",
    "import os\n",
    "import numpy as np\n",
    "import tensorflow as tf\n",
    "import keras\n",
    "from keras.preprocessing import image\n",
    "from keras.applications.vgg16 import (VGG16, preprocess_input, decode_predictions)\n",
    "from keras import models\n",
    "from keras import layers\n",
    "from keras import optimizers\n",
    "from keras.preprocessing.image import ImageDataGenerator\n",
    "import matplotlib.pyplot as plt\n",
    "from sklearn.metrics import confusion_matrix"
   ]
  },
  {
   "cell_type": "code",
   "execution_count": 2,
   "metadata": {
    "collapsed": true
   },
   "outputs": [],
   "source": [
    "#load the VGG16 model without the top layer or output layer\n",
    "trained_model = VGG16(\n",
    "    include_top=False,\n",
    "    weights='imagenet',\n",
    "    input_shape=(224,224,3))"
   ]
  },
  {
   "cell_type": "code",
   "execution_count": 3,
   "metadata": {
    "collapsed": true
   },
   "outputs": [],
   "source": [
    "#freeze all layers except last 4 layers and make them trainable\n",
    "for layer in trained_model.layers[:-4]:\n",
    "    layer.trainable = False"
   ]
  },
  {
   "cell_type": "code",
   "execution_count": 4,
   "metadata": {},
   "outputs": [
    {
     "name": "stdout",
     "output_type": "stream",
     "text": [
      "<keras.engine.input_layer.InputLayer object at 0x0000029B7C6B0240> False\n",
      "<keras.layers.convolutional.Conv2D object at 0x0000029B7C6B0358> False\n",
      "<keras.layers.convolutional.Conv2D object at 0x0000029B7C65D5C0> False\n",
      "<keras.layers.pooling.MaxPooling2D object at 0x0000029B7C3492E8> False\n",
      "<keras.layers.convolutional.Conv2D object at 0x0000029B7C2BA048> False\n",
      "<keras.layers.convolutional.Conv2D object at 0x0000029B7C6D4048> False\n",
      "<keras.layers.pooling.MaxPooling2D object at 0x0000029B7C70CC50> False\n",
      "<keras.layers.convolutional.Conv2D object at 0x0000029B7C71CA58> False\n",
      "<keras.layers.convolutional.Conv2D object at 0x0000029B7C730C88> False\n",
      "<keras.layers.convolutional.Conv2D object at 0x0000029B7C742FD0> False\n",
      "<keras.layers.pooling.MaxPooling2D object at 0x0000029B7C768DA0> False\n",
      "<keras.layers.convolutional.Conv2D object at 0x0000029B7C77ABA8> False\n",
      "<keras.layers.convolutional.Conv2D object at 0x0000029B7C78CDD8> False\n",
      "<keras.layers.convolutional.Conv2D object at 0x0000029B7C79C668> False\n",
      "<keras.layers.pooling.MaxPooling2D object at 0x0000029B7C7C2EF0> False\n",
      "<keras.layers.convolutional.Conv2D object at 0x0000029B7C7D8CC0> True\n",
      "<keras.layers.convolutional.Conv2D object at 0x0000029B7C7ECAC8> True\n",
      "<keras.layers.convolutional.Conv2D object at 0x0000029B7C7F97F0> True\n",
      "<keras.layers.pooling.MaxPooling2D object at 0x0000029B7C81FCC0> True\n"
     ]
    }
   ],
   "source": [
    "#check if the last 4 layers are trainable\n",
    "for layer in trained_model.layers:\n",
    "    print(layer,layer.trainable)"
   ]
  },
  {
   "cell_type": "code",
   "execution_count": 5,
   "metadata": {
    "collapsed": true
   },
   "outputs": [],
   "source": [
    "#create my fine tuned model\n",
    "my_model = models.Sequential()\n",
    "#use VGG16 model as the base\n",
    "my_model.add(trained_model)\n",
    "my_model.add(layers.Flatten())\n",
    "#add another layer with 'relu' activation\n",
    "my_model.add(layers.Dense(512, activation='relu'))\n",
    "#add drop out regularization to reduce overfit\n",
    "my_model.add(layers.Dropout(0.5))\n",
    "#add output layer with 'softmax' activation for 5 classes / flower names\n",
    "my_model.add(layers.Dense(5, activation='softmax'))"
   ]
  },
  {
   "cell_type": "code",
   "execution_count": 6,
   "metadata": {},
   "outputs": [
    {
     "name": "stdout",
     "output_type": "stream",
     "text": [
      "_________________________________________________________________\n",
      "Layer (type)                 Output Shape              Param #   \n",
      "=================================================================\n",
      "vgg16 (Model)                (None, 7, 7, 512)         14714688  \n",
      "_________________________________________________________________\n",
      "flatten_1 (Flatten)          (None, 25088)             0         \n",
      "_________________________________________________________________\n",
      "dense_1 (Dense)              (None, 512)               12845568  \n",
      "_________________________________________________________________\n",
      "dropout_1 (Dropout)          (None, 512)               0         \n",
      "_________________________________________________________________\n",
      "dense_2 (Dense)              (None, 5)                 2565      \n",
      "=================================================================\n",
      "Total params: 27,562,821\n",
      "Trainable params: 19,927,557\n",
      "Non-trainable params: 7,635,264\n",
      "_________________________________________________________________\n"
     ]
    }
   ],
   "source": [
    "#show model summary\n",
    "my_model.summary()"
   ]
  },
  {
   "cell_type": "code",
   "execution_count": 7,
   "metadata": {
    "collapsed": true
   },
   "outputs": [],
   "source": [
    "#pre-process training data, use data augmentation to increase the amount of training data and reduce overfit\n",
    "train_datagen = ImageDataGenerator(\n",
    "      rescale=1./255,\n",
    "      rotation_range=20,\n",
    "      width_shift_range=0.2,\n",
    "      height_shift_range=0.2,\n",
    "      horizontal_flip=True,\n",
    "      fill_mode='nearest')\n",
    " \n",
    "#pre-process validation data\n",
    "validation_datagen = ImageDataGenerator(rescale=1./255)"
   ]
  },
  {
   "cell_type": "code",
   "execution_count": 8,
   "metadata": {
    "collapsed": true
   },
   "outputs": [],
   "source": [
    "#specify training and validation batch size\n",
    "training_batchsize = 50\n",
    "validation_batchsize = 10\n",
    "\n",
    "#specify training data and validation data path\n",
    "training_path = \"Data/ImageNet_images/training\"\n",
    "validation_path = \"Data/ImageNet_images/validation\"\n",
    "\n",
    "#specify image size used in the model\n",
    "image_size = (224,224)"
   ]
  },
  {
   "cell_type": "code",
   "execution_count": 9,
   "metadata": {},
   "outputs": [
    {
     "name": "stdout",
     "output_type": "stream",
     "text": [
      "Found 2250 images belonging to 5 classes.\n",
      "Found 250 images belonging to 5 classes.\n"
     ]
    }
   ],
   "source": [
    "#generate training data from pictures folder\n",
    "train_generator = train_datagen.flow_from_directory(\n",
    "        training_path,\n",
    "        target_size=image_size,\n",
    "        batch_size=training_batchsize,\n",
    "        class_mode='categorical')\n",
    "\n",
    "#generate validation data from pictures folder\n",
    "validation_generator = validation_datagen.flow_from_directory(\n",
    "        validation_path,\n",
    "        target_size=image_size,\n",
    "        batch_size=validation_batchsize,\n",
    "        class_mode='categorical',\n",
    "        shuffle=False)"
   ]
  },
  {
   "cell_type": "code",
   "execution_count": 10,
   "metadata": {},
   "outputs": [
    {
     "name": "stdout",
     "output_type": "stream",
     "text": [
      "Epoch 1/30\n",
      " - 1528s - loss: 1.7532 - acc: 0.2542 - val_loss: 1.3968 - val_acc: 0.4680\n",
      "Epoch 2/30\n",
      " - 1505s - loss: 1.3876 - acc: 0.4369 - val_loss: 1.1244 - val_acc: 0.6320\n",
      "Epoch 3/30\n",
      " - 1497s - loss: 1.0957 - acc: 0.5778 - val_loss: 0.8819 - val_acc: 0.6800\n",
      "Epoch 4/30\n",
      " - 1498s - loss: 0.8486 - acc: 0.6822 - val_loss: 0.7333 - val_acc: 0.7480\n",
      "Epoch 5/30\n",
      " - 1617s - loss: 0.7056 - acc: 0.7324 - val_loss: 0.6503 - val_acc: 0.7600\n",
      "Epoch 6/30\n",
      " - 1543s - loss: 0.6251 - acc: 0.7751 - val_loss: 0.5929 - val_acc: 0.8040\n",
      "Epoch 7/30\n",
      " - 1498s - loss: 0.5606 - acc: 0.7893 - val_loss: 0.5447 - val_acc: 0.8160\n",
      "Epoch 8/30\n",
      " - 1498s - loss: 0.4992 - acc: 0.8191 - val_loss: 0.5101 - val_acc: 0.8280\n",
      "Epoch 9/30\n",
      " - 1497s - loss: 0.4612 - acc: 0.8369 - val_loss: 0.4827 - val_acc: 0.8360\n",
      "Epoch 10/30\n",
      " - 1497s - loss: 0.4320 - acc: 0.8440 - val_loss: 0.4493 - val_acc: 0.8480\n",
      "Epoch 11/30\n",
      " - 1546s - loss: 0.4163 - acc: 0.8560 - val_loss: 0.4334 - val_acc: 0.8560\n",
      "Epoch 12/30\n",
      " - 1587s - loss: 0.4002 - acc: 0.8658 - val_loss: 0.4155 - val_acc: 0.8600\n",
      "Epoch 13/30\n",
      " - 1631s - loss: 0.3782 - acc: 0.8622 - val_loss: 0.4061 - val_acc: 0.8560\n",
      "Epoch 14/30\n",
      " - 1722s - loss: 0.3470 - acc: 0.8813 - val_loss: 0.3954 - val_acc: 0.8600\n",
      "Epoch 15/30\n",
      " - 1642s - loss: 0.3504 - acc: 0.8751 - val_loss: 0.3824 - val_acc: 0.8600\n",
      "Epoch 16/30\n",
      " - 1566s - loss: 0.3459 - acc: 0.8818 - val_loss: 0.3728 - val_acc: 0.8720\n",
      "Epoch 17/30\n",
      " - 1539s - loss: 0.3104 - acc: 0.8884 - val_loss: 0.3765 - val_acc: 0.8760\n",
      "Epoch 18/30\n",
      " - 1546s - loss: 0.3067 - acc: 0.8902 - val_loss: 0.3582 - val_acc: 0.8760\n",
      "Epoch 19/30\n",
      " - 1653s - loss: 0.2961 - acc: 0.8987 - val_loss: 0.3736 - val_acc: 0.8760\n",
      "Epoch 20/30\n",
      " - 1542s - loss: 0.2913 - acc: 0.8982 - val_loss: 0.3386 - val_acc: 0.8680\n",
      "Epoch 21/30\n",
      " - 1540s - loss: 0.2755 - acc: 0.9049 - val_loss: 0.3433 - val_acc: 0.8880\n",
      "Epoch 22/30\n",
      " - 1542s - loss: 0.2628 - acc: 0.9156 - val_loss: 0.3334 - val_acc: 0.8840\n",
      "Epoch 23/30\n",
      " - 1687s - loss: 0.2804 - acc: 0.8982 - val_loss: 0.3257 - val_acc: 0.8880\n",
      "Epoch 24/30\n",
      " - 1804s - loss: 0.2522 - acc: 0.9133 - val_loss: 0.3342 - val_acc: 0.8880\n",
      "Epoch 25/30\n",
      " - 1775s - loss: 0.2496 - acc: 0.9120 - val_loss: 0.3247 - val_acc: 0.8880\n",
      "Epoch 26/30\n",
      " - 1681s - loss: 0.2471 - acc: 0.9222 - val_loss: 0.3105 - val_acc: 0.8920\n",
      "Epoch 27/30\n",
      " - 1683s - loss: 0.2384 - acc: 0.9182 - val_loss: 0.3201 - val_acc: 0.8840\n",
      "Epoch 28/30\n",
      " - 1682s - loss: 0.2241 - acc: 0.9200 - val_loss: 0.3080 - val_acc: 0.8840\n",
      "Epoch 29/30\n",
      " - 1690s - loss: 0.2289 - acc: 0.9209 - val_loss: 0.3230 - val_acc: 0.8800\n",
      "Epoch 30/30\n",
      " - 1661s - loss: 0.2281 - acc: 0.9164 - val_loss: 0.3070 - val_acc: 0.8840\n"
     ]
    }
   ],
   "source": [
    "#compile the model\n",
    "#my_model.compile(loss='categorical_crossentropy',\n",
    " #           optimizer=optimizers.RMSprop(lr=3e-5),\n",
    "  #          metrics=['acc'])\n",
    "my_model.compile(loss='categorical_crossentropy',\n",
    "            optimizer=optimizers.Adamax(lr=1e-5),\n",
    "            metrics=['acc'])\n",
    "#my_model.compile(loss='categorical_crossentropy',\n",
    " #             optimizer=optimizers.Nadam(lr=1e-5),\n",
    "  #            metrics=['acc'])\n",
    "\n",
    "#train the model\n",
    "history = my_model.fit_generator(\n",
    "      train_generator,\n",
    "      steps_per_epoch=train_generator.samples/train_generator.batch_size ,\n",
    "      epochs=30,\n",
    "      validation_data=validation_generator,\n",
    "      validation_steps=validation_generator.samples/validation_generator.batch_size,\n",
    "      verbose=2)\n",
    " \n",
    "#save the model\n",
    "my_model.save('my_model3.h5')"
   ]
  },
  {
   "cell_type": "code",
   "execution_count": 11,
   "metadata": {},
   "outputs": [
    {
     "data": {
      "image/png": "[encoded data removed]",
      "text/plain": [
       "<matplotlib.figure.Figure at 0x29b008efbe0>"
      ]
     },
     "metadata": {},
     "output_type": "display_data"
    },
    {
     "data": {
      "image/png": "[encoded data removed]",
      "text/plain": [
       "<matplotlib.figure.Figure at 0x29b02ca32b0>"
      ]
     },
     "metadata": {},
     "output_type": "display_data"
    }
   ],
   "source": [
    "#plot training and validation accuracy, training and validation loss\n",
    "acc = history.history['acc']\n",
    "val_acc = history.history['val_acc']\n",
    "loss = history.history['loss']\n",
    "val_loss = history.history['val_loss']\n",
    " \n",
    "epochs = range(len(acc))\n",
    " \n",
    "plt.figure(figsize=(8,5))\n",
    "plt.plot(epochs, acc, 'b', label='Training acc')\n",
    "plt.plot(epochs, val_acc, 'r', label='Validation acc')\n",
    "plt.title('Training and validation accuracy')\n",
    "plt.legend()\n",
    " \n",
    "plt.figure(figsize=(8,5)) \n",
    "plt.plot(epochs, loss, 'b', label='Training loss')\n",
    "plt.plot(epochs, val_loss, 'r', label='Validation loss')\n",
    "plt.title('Training and validation loss')\n",
    "plt.legend()\n",
    " \n",
    "plt.show()"
   ]
  }
 ],
 "metadata": {
  "kernelspec": {
   "display_name": "Python 3",
   "language": "python",
   "name": "python3"
  },
  "language_info": {
   "codemirror_mode": {
    "name": "ipython",
    "version": 3
   },
   "file_extension": ".py",
   "mimetype": "text/x-python",
   "name": "python",
   "nbconvert_exporter": "python",
   "pygments_lexer": "ipython3",
   "version": "3.6.3"
  }
 },
 "nbformat": 4,
 "nbformat_minor": 2
}
