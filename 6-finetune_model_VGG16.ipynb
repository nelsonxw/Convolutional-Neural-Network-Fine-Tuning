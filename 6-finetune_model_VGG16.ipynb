{
 "cells": [
  {
   "cell_type": "code",
   "execution_count": 1,
   "metadata": {},
   "outputs": [
    {
     "name": "stderr",
     "output_type": "stream",
     "text": [
      "Using TensorFlow backend.\n"
     ]
    }
   ],
   "source": [
    "#import dependencies \n",
    "import os\n",
    "import numpy as np\n",
    "import tensorflow as tf\n",
    "import keras\n",
    "from keras.preprocessing import image\n",
    "from keras.applications.vgg16 import (VGG16, preprocess_input, decode_predictions)\n",
    "from keras import models\n",
    "from keras import layers\n",
    "from keras import optimizers\n",
    "from keras.preprocessing.image import ImageDataGenerator\n",
    "import matplotlib.pyplot as plt\n",
    "from sklearn.metrics import confusion_matrix"
   ]
  },
  {
   "cell_type": "code",
   "execution_count": 2,
   "metadata": {
    "collapsed": true
   },
   "outputs": [],
   "source": [
    "#load the VGG16 model without the top layer or output layer\n",
    "trained_model = VGG16(\n",
    "    include_top=False,\n",
    "    weights='imagenet',\n",
    "    input_shape=(224,224,3))"
   ]
  },
  {
   "cell_type": "code",
   "execution_count": 3,
   "metadata": {},
   "outputs": [
    {
     "name": "stdout",
     "output_type": "stream",
     "text": [
      "<keras.engine.input_layer.InputLayer object at 0x000002377FB1E0B8>\n",
      "<keras.layers.convolutional.Conv2D object at 0x000002377FB1E438>\n",
      "<keras.layers.convolutional.Conv2D object at 0x000002377FACE278>\n",
      "<keras.layers.pooling.MaxPooling2D object at 0x000002377F6FC0B8>\n",
      "<keras.layers.convolutional.Conv2D object at 0x000002377F707668>\n",
      "<keras.layers.convolutional.Conv2D object at 0x000002377FB44B38>\n",
      "<keras.layers.pooling.MaxPooling2D object at 0x000002377FB7BBE0>\n",
      "<keras.layers.convolutional.Conv2D object at 0x000002377FB8C9E8>\n",
      "<keras.layers.convolutional.Conv2D object at 0x000002377FB9FEF0>\n",
      "<keras.layers.convolutional.Conv2D object at 0x000002377FBB1FD0>\n",
      "<keras.layers.pooling.MaxPooling2D object at 0x000002377FBD8940>\n",
      "<keras.layers.convolutional.Conv2D object at 0x000002377FBE8B00>\n",
      "<keras.layers.convolutional.Conv2D object at 0x000002377FBFBD30>\n",
      "<keras.layers.convolutional.Conv2D object at 0x000002377FC0C5C0>\n",
      "<keras.layers.pooling.MaxPooling2D object at 0x000002377FC33E48>\n",
      "<keras.layers.convolutional.Conv2D object at 0x000002377FC49C18>\n",
      "<keras.layers.convolutional.Conv2D object at 0x000002377FC5BE48>\n",
      "<keras.layers.convolutional.Conv2D object at 0x000002377FC6B748>\n",
      "<keras.layers.pooling.MaxPooling2D object at 0x000002377FC8FF98>\n"
     ]
    }
   ],
   "source": [
    "#print out all layers\n",
    "for layer in trained_model.layers:\n",
    "    print(layer)"
   ]
  },
  {
   "cell_type": "code",
   "execution_count": 4,
   "metadata": {
    "collapsed": true
   },
   "outputs": [],
   "source": [
    "#freeze all layers except last 4 layers and make them trainable\n",
    "for layer in trained_model.layers[:-4]:\n",
    "    layer.trainable = False"
   ]
  },
  {
   "cell_type": "code",
   "execution_count": 5,
   "metadata": {},
   "outputs": [
    {
     "name": "stdout",
     "output_type": "stream",
     "text": [
      "<keras.engine.input_layer.InputLayer object at 0x000002377FB1E0B8> False\n",
      "<keras.layers.convolutional.Conv2D object at 0x000002377FB1E438> False\n",
      "<keras.layers.convolutional.Conv2D object at 0x000002377FACE278> False\n",
      "<keras.layers.pooling.MaxPooling2D object at 0x000002377F6FC0B8> False\n",
      "<keras.layers.convolutional.Conv2D object at 0x000002377F707668> False\n",
      "<keras.layers.convolutional.Conv2D object at 0x000002377FB44B38> False\n",
      "<keras.layers.pooling.MaxPooling2D object at 0x000002377FB7BBE0> False\n",
      "<keras.layers.convolutional.Conv2D object at 0x000002377FB8C9E8> False\n",
      "<keras.layers.convolutional.Conv2D object at 0x000002377FB9FEF0> False\n",
      "<keras.layers.convolutional.Conv2D object at 0x000002377FBB1FD0> False\n",
      "<keras.layers.pooling.MaxPooling2D object at 0x000002377FBD8940> False\n",
      "<keras.layers.convolutional.Conv2D object at 0x000002377FBE8B00> False\n",
      "<keras.layers.convolutional.Conv2D object at 0x000002377FBFBD30> False\n",
      "<keras.layers.convolutional.Conv2D object at 0x000002377FC0C5C0> False\n",
      "<keras.layers.pooling.MaxPooling2D object at 0x000002377FC33E48> False\n",
      "<keras.layers.convolutional.Conv2D object at 0x000002377FC49C18> True\n",
      "<keras.layers.convolutional.Conv2D object at 0x000002377FC5BE48> True\n",
      "<keras.layers.convolutional.Conv2D object at 0x000002377FC6B748> True\n",
      "<keras.layers.pooling.MaxPooling2D object at 0x000002377FC8FF98> True\n"
     ]
    }
   ],
   "source": [
    "#check if the last 4 layers are trainable\n",
    "for layer in trained_model.layers:\n",
    "    print(layer,layer.trainable)"
   ]
  },
  {
   "cell_type": "code",
   "execution_count": 6,
   "metadata": {
    "collapsed": true
   },
   "outputs": [],
   "source": [
    "#create my fine tuned model\n",
    "my_model = models.Sequential()\n",
    "#use VGG16 model as the base\n",
    "my_model.add(trained_model)\n",
    "my_model.add(layers.Flatten())\n",
    "#add another layer with 'relu' activation\n",
    "my_model.add(layers.Dense(256, activation='relu'))\n",
    "#add drop out regularization to reduce overfit\n",
    "my_model.add(layers.Dropout(0.5))\n",
    "#add output layer with 'softmax' activation for 5 classes / flower names\n",
    "my_model.add(layers.Dense(5, activation='softmax'))"
   ]
  },
  {
   "cell_type": "code",
   "execution_count": 7,
   "metadata": {},
   "outputs": [
    {
     "name": "stdout",
     "output_type": "stream",
     "text": [
      "_________________________________________________________________\n",
      "Layer (type)                 Output Shape              Param #   \n",
      "=================================================================\n",
      "vgg16 (Model)                (None, 7, 7, 512)         14714688  \n",
      "_________________________________________________________________\n",
      "flatten_1 (Flatten)          (None, 25088)             0         \n",
      "_________________________________________________________________\n",
      "dense_1 (Dense)              (None, 256)               6422784   \n",
      "_________________________________________________________________\n",
      "dropout_1 (Dropout)          (None, 256)               0         \n",
      "_________________________________________________________________\n",
      "dense_2 (Dense)              (None, 5)                 1285      \n",
      "=================================================================\n",
      "Total params: 21,138,757\n",
      "Trainable params: 13,503,493\n",
      "Non-trainable params: 7,635,264\n",
      "_________________________________________________________________\n"
     ]
    }
   ],
   "source": [
    "#show model summary\n",
    "my_model.summary()"
   ]
  },
  {
   "cell_type": "code",
   "execution_count": 8,
   "metadata": {
    "collapsed": true
   },
   "outputs": [],
   "source": [
    "#pre-process training data, use data augmentation to increase the amount of training data and reduce overfit\n",
    "train_datagen = ImageDataGenerator(\n",
    "      rescale=1./255,\n",
    "      rotation_range=20,\n",
    "      width_shift_range=0.2,\n",
    "      height_shift_range=0.2,\n",
    "      horizontal_flip=True,\n",
    "      fill_mode='nearest')\n",
    " \n",
    "#pre-process validation data\n",
    "validation_datagen = ImageDataGenerator(rescale=1./255)"
   ]
  },
  {
   "cell_type": "code",
   "execution_count": 9,
   "metadata": {
    "collapsed": true
   },
   "outputs": [],
   "source": [
    "#specify training and validation batch size\n",
    "training_batchsize = 50\n",
    "validation_batchsize = 10\n",
    "\n",
    "#specify training data and validation data path\n",
    "training_path = \"Data/ImageNet_images/training\"\n",
    "validation_path = \"Data/ImageNet_images/validation\"\n",
    "\n",
    "#specify image size used in the model\n",
    "image_size = (224,224)"
   ]
  },
  {
   "cell_type": "code",
   "execution_count": 10,
   "metadata": {},
   "outputs": [
    {
     "name": "stdout",
     "output_type": "stream",
     "text": [
      "Found 250 images belonging to 5 classes.\n",
      "Found 250 images belonging to 5 classes.\n"
     ]
    }
   ],
   "source": [
    "#generate training data from pictures folder\n",
    "train_generator = train_datagen.flow_from_directory(\n",
    "        training_path,\n",
    "        target_size=image_size,\n",
    "        batch_size=training_batchsize,\n",
    "        class_mode='categorical')\n",
    " \n",
    "#generate validation data from pictures folder\n",
    "validation_generator = validation_datagen.flow_from_directory(\n",
    "    validation_path,\n",
    "    target_size=image_size,\n",
    "    batch_size=validation_batchsize,\n",
    "    class_mode='categorical',\n",
    "    shuffle=False)"
   ]
  },
  {
   "cell_type": "code",
   "execution_count": 11,
   "metadata": {},
   "outputs": [
    {
     "name": "stdout",
     "output_type": "stream",
     "text": [
      "Epoch 1/30\n",
      " - 318s - loss: 1.9249 - acc: 0.2040 - val_loss: 1.5412 - val_acc: 0.3120\n",
      "Epoch 2/30\n",
      " - 319s - loss: 1.7143 - acc: 0.2720 - val_loss: 1.4545 - val_acc: 0.4560\n",
      "Epoch 3/30\n",
      " - 317s - loss: 1.4905 - acc: 0.4000 - val_loss: 1.3719 - val_acc: 0.5120\n",
      "Epoch 4/30\n",
      " - 314s - loss: 1.3232 - acc: 0.4600 - val_loss: 1.3170 - val_acc: 0.5040\n",
      "Epoch 5/30\n",
      " - 286s - loss: 1.1865 - acc: 0.5440 - val_loss: 1.2365 - val_acc: 0.5600\n",
      "Epoch 6/30\n",
      " - 284s - loss: 1.0437 - acc: 0.5960 - val_loss: 1.1534 - val_acc: 0.6080\n",
      "Epoch 7/30\n",
      " - 284s - loss: 0.9822 - acc: 0.6280 - val_loss: 1.1066 - val_acc: 0.6160\n",
      "Epoch 8/30\n",
      " - 286s - loss: 0.8426 - acc: 0.7080 - val_loss: 1.0789 - val_acc: 0.6000\n",
      "Epoch 9/30\n",
      " - 280s - loss: 0.8531 - acc: 0.6720 - val_loss: 1.0319 - val_acc: 0.6440\n",
      "Epoch 10/30\n",
      " - 288s - loss: 0.7157 - acc: 0.7720 - val_loss: 0.9501 - val_acc: 0.6840\n",
      "Epoch 11/30\n",
      " - 293s - loss: 0.6651 - acc: 0.7560 - val_loss: 0.9268 - val_acc: 0.7000\n",
      "Epoch 12/30\n",
      " - 294s - loss: 0.6703 - acc: 0.7440 - val_loss: 0.8978 - val_acc: 0.7120\n",
      "Epoch 13/30\n",
      " - 293s - loss: 0.6285 - acc: 0.7720 - val_loss: 0.8789 - val_acc: 0.7200\n",
      "Epoch 14/30\n",
      " - 292s - loss: 0.5387 - acc: 0.8040 - val_loss: 0.8748 - val_acc: 0.7040\n",
      "Epoch 15/30\n",
      " - 297s - loss: 0.4676 - acc: 0.8280 - val_loss: 0.8802 - val_acc: 0.7080\n",
      "Epoch 16/30\n",
      " - 283s - loss: 0.4838 - acc: 0.8520 - val_loss: 0.8366 - val_acc: 0.7320\n",
      "Epoch 17/30\n",
      " - 303s - loss: 0.4134 - acc: 0.8760 - val_loss: 0.8218 - val_acc: 0.7400\n",
      "Epoch 18/30\n",
      " - 334s - loss: 0.4268 - acc: 0.8440 - val_loss: 0.7825 - val_acc: 0.7440\n",
      "Epoch 19/30\n",
      " - 302s - loss: 0.4007 - acc: 0.8600 - val_loss: 0.7552 - val_acc: 0.7360\n",
      "Epoch 20/30\n",
      " - 297s - loss: 0.3696 - acc: 0.8800 - val_loss: 0.7565 - val_acc: 0.7640\n",
      "Epoch 21/30\n",
      " - 297s - loss: 0.3891 - acc: 0.8640 - val_loss: 0.7504 - val_acc: 0.7560\n",
      "Epoch 22/30\n",
      " - 303s - loss: 0.3411 - acc: 0.8840 - val_loss: 0.7291 - val_acc: 0.7600\n",
      "Epoch 23/30\n",
      " - 293s - loss: 0.2845 - acc: 0.9080 - val_loss: 0.7477 - val_acc: 0.7720\n",
      "Epoch 24/30\n",
      " - 289s - loss: 0.2493 - acc: 0.9080 - val_loss: 0.7243 - val_acc: 0.7680\n",
      "Epoch 25/30\n",
      " - 300s - loss: 0.2772 - acc: 0.9160 - val_loss: 0.7755 - val_acc: 0.7520\n",
      "Epoch 26/30\n",
      " - 300s - loss: 0.2524 - acc: 0.9240 - val_loss: 0.7252 - val_acc: 0.7680\n",
      "Epoch 27/30\n",
      " - 297s - loss: 0.2388 - acc: 0.9200 - val_loss: 0.7912 - val_acc: 0.7520\n",
      "Epoch 28/30\n",
      " - 303s - loss: 0.2415 - acc: 0.9320 - val_loss: 0.7834 - val_acc: 0.7760\n",
      "Epoch 29/30\n",
      " - 280s - loss: 0.2378 - acc: 0.9240 - val_loss: 0.7405 - val_acc: 0.7640\n",
      "Epoch 30/30\n",
      " - 283s - loss: 0.1770 - acc: 0.9600 - val_loss: 0.7208 - val_acc: 0.7720\n"
     ]
    }
   ],
   "source": [
    "#compile the model\n",
    "my_model.compile(loss='categorical_crossentropy',\n",
    "            optimizer=optimizers.RMSprop(lr=1e-5),\n",
    "            metrics=['acc'])\n",
    "#my_model.compile(loss='categorical_crossentropy',\n",
    " #            optimizer=optimizers.Adamax(lr=1e-5),\n",
    "  #          metrics=['acc'])\n",
    "#my_model.compile(loss='categorical_crossentropy',\n",
    " #             optimizer=optimizers.Nadam(lr=1e-5),\n",
    "  #            metrics=['acc'])\n",
    "\n",
    "#train the model\n",
    "history = my_model.fit_generator(\n",
    "      train_generator,\n",
    "      steps_per_epoch=train_generator.samples/train_generator.batch_size ,\n",
    "      epochs=30,\n",
    "      validation_data=validation_generator,\n",
    "      validation_steps=validation_generator.samples/validation_generator.batch_size,\n",
    "      verbose=2)\n",
    " \n",
    "#save the model\n",
    "my_model.save('my_model.h5')"
   ]
  },
  {
   "cell_type": "code",
   "execution_count": 12,
   "metadata": {
    "scrolled": true
   },
   "outputs": [
    {
     "data": {
      "image/png": "[encoded data removed]",
      "text/plain": [
       "<matplotlib.figure.Figure at 0x237025ffdd8>"
      ]
     },
     "metadata": {},
     "output_type": "display_data"
    },
    {
     "data": {
      "image/png": "[encoded data removed]",
      "text/plain": [
       "<matplotlib.figure.Figure at 0x23700639588>"
      ]
     },
     "metadata": {},
     "output_type": "display_data"
    }
   ],
   "source": [
    "#plot training and validation accuracy, training and validation loss\n",
    "acc = history.history['acc']\n",
    "val_acc = history.history['val_acc']\n",
    "loss = history.history['loss']\n",
    "val_loss = history.history['val_loss']\n",
    " \n",
    "epochs = range(len(acc))\n",
    " \n",
    "plt.figure(figsize=(8,5))\n",
    "plt.plot(epochs, acc, 'b', label='Training acc')\n",
    "plt.plot(epochs, val_acc, 'r', label='Validation acc')\n",
    "plt.title('Training and validation accuracy')\n",
    "plt.legend()\n",
    " \n",
    "plt.figure(figsize=(8,5)) \n",
    "plt.plot(epochs, loss, 'b', label='Training loss')\n",
    "plt.plot(epochs, val_loss, 'r', label='Validation loss')\n",
    "plt.title('Training and validation loss')\n",
    "plt.legend()\n",
    " \n",
    "plt.show()"
   ]
  }
 ],
 "metadata": {
  "kernelspec": {
   "display_name": "Python 3",
   "language": "python",
   "name": "python3"
  },
  "language_info": {
   "codemirror_mode": {
    "name": "ipython",
    "version": 3
   },
   "file_extension": ".py",
   "mimetype": "text/x-python",
   "name": "python",
   "nbconvert_exporter": "python",
   "pygments_lexer": "ipython3",
   "version": "3.6.3"
  }
 },
 "nbformat": 4,
 "nbformat_minor": 2
}
