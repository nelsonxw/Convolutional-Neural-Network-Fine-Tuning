{
 "cells": [
  {
   "cell_type": "code",
   "execution_count": 1,
   "metadata": {},
   "outputs": [
    {
     "name": "stderr",
     "output_type": "stream",
     "text": [
      "Using TensorFlow backend.\n"
     ]
    }
   ],
   "source": [
    "# Dependencies\n",
    "import os\n",
    "import numpy as np\n",
    "import tensorflow as tf\n",
    "import keras\n",
    "from keras.preprocessing import image\n",
    "from keras.applications.inception_resnet_v2 import (\n",
    "    InceptionResNetV2, preprocess_input, decode_predictions)"
   ]
  },
  {
   "cell_type": "code",
   "execution_count": 2,
   "metadata": {
    "collapsed": true
   },
   "outputs": [],
   "source": [
    "mymodel = InceptionResNetV2(\n",
    "    include_top=True,\n",
    "    weights='imagenet')\n",
    "image_size = (299, 299)"
   ]
  },
  {
   "cell_type": "code",
   "execution_count": 3,
   "metadata": {
    "collapsed": true
   },
   "outputs": [],
   "source": [
    "folder_path = \"Data/ImageNet_images/experiment/\"\n",
    "flower_list = ['sunflower']\n",
    "output = {\"flower_name\":[],\"predict_accuracy\":[]}"
   ]
  },
  {
   "cell_type": "code",
   "execution_count": 4,
   "metadata": {},
   "outputs": [
    {
     "name": "stdout",
     "output_type": "stream",
     "text": [
      "['daisy', 'daisy', 'daisy', 'daisy', 'daisy', 'daisy', 'daisy', 'vase', 'daisy', 'daisy', 'daisy', 'daisy', 'daisy', 'daisy', 'jackfruit', 'sulphur_butterfly', 'daisy', 'daisy', 'ant', 'ant', 'sulphur_butterfly', 'daisy', 'daisy', 'daisy', 'daisy', 'pineapple', 'vase', 'daisy', 'daisy', 'daisy', 'daisy', 'daisy', 'cardoon', 'mushroom', 'daisy', 'daisy', 'daisy', 'bee', 'daisy', 'daisy', 'daisy', 'daisy', 'pot', 'daisy', 'daisy', 'daisy', 'daisy', 'daisy', 'daisy', 'daisy', 'daisy', 'daisy', 'daisy', 'daisy', 'bee', 'daisy', 'daisy', 'daisy', 'vase', 'daisy', 'vase', 'picket_fence', 'daisy', 'daisy', 'daisy', 'daisy', 'daisy', 'daisy', 'daisy', 'daisy', 'daisy', 'jackfruit', 'daisy', 'daisy', 'daisy', 'daisy', 'daisy', 'daisy', 'daisy', 'daisy', 'pot', 'daisy', 'daisy', 'sulphur_butterfly', 'cardoon', 'pineapple', 'daisy', 'daisy', 'daisy', 'pot', 'daisy', 'daisy', 'daisy', 'daisy', 'daisy', 'daisy', 'cardoon', 'daisy', 'daisy', 'daisy', 'daisy', 'daisy', 'bee', 'daisy', 'daisy', 'daisy', 'daisy', 'daisy', 'daisy', 'daisy', 'daisy', 'pineapple', 'daisy', 'daisy', 'jackfruit', 'daisy', 'daisy', 'daisy', 'daisy', 'daisy', 'daisy', 'daisy', 'daisy', 'daisy', 'daisy', 'daisy', 'daisy', 'daisy', 'daisy', 'pot', 'rapeseed', 'daisy', 'balloon', 'daisy', 'bee', 'daisy', 'daisy', 'pineapple', 'ant', 'daisy', 'bee']\n"
     ]
    }
   ],
   "source": [
    "for flower in flower_list:\n",
    "        #get the list of image file names under each flower class\n",
    "        image_list = os.listdir(os.path.join(folder_path,flower))\n",
    "        #determine the total image count\n",
    "        total_count = len(image_list)\n",
    "        correct_count = 0\n",
    "        predict_result = []\n",
    "        #loop through all image files in the list\n",
    "        for image_file in image_list:\n",
    "            #if there is a windows Thumbs.db file, skip it and correct the total image count\n",
    "            if image_file == 'Thumbs.db':\n",
    "                total_count -= 1\n",
    "            else:\n",
    "                #get the path and file name of each image\n",
    "                image_path = os.path.join(folder_path,flower, image_file)\n",
    "                #load image and pre-process it\n",
    "                img = image.load_img(image_path, target_size=image_size)\n",
    "                x = image.img_to_array(img)\n",
    "                x = np.expand_dims(x, axis=0)\n",
    "                x = preprocess_input(x)\n",
    "                #predict the flower name with the model\n",
    "                predictions = mymodel.predict(x)\n",
    "                #get the result of predictions and add to list\n",
    "                result = decode_predictions(predictions, top=1)[0][0][1]\n",
    "                predict_result.append(result)\n",
    "                #if the predicted flower name is same as the flower class name, then correct count increase\n",
    "                if result.lower() == flower:\n",
    "                    correct_count += 1\n",
    "        #update the output dictionary with model name, flower class name and prediction accuracy\n",
    "        output[\"flower_name\"].append(flower)\n",
    "        output[\"predict_accuracy\"].append(correct_count / total_count)\n",
    "        print(predict_result)"
   ]
  },
  {
   "cell_type": "code",
   "execution_count": 5,
   "metadata": {},
   "outputs": [
    {
     "data": {
      "text/plain": [
       "{'flower_name': ['sunflower'], 'predict_accuracy': [0.0]}"
      ]
     },
     "execution_count": 5,
     "metadata": {},
     "output_type": "execute_result"
    }
   ],
   "source": [
    "output"
   ]
  }
 ],
 "metadata": {
  "kernelspec": {
   "display_name": "Python 3",
   "language": "python",
   "name": "python3"
  },
  "language_info": {
   "codemirror_mode": {
    "name": "ipython",
    "version": 3
   },
   "file_extension": ".py",
   "mimetype": "text/x-python",
   "name": "python",
   "nbconvert_exporter": "python",
   "pygments_lexer": "ipython3",
   "version": "3.6.3"
  }
 },
 "nbformat": 4,
 "nbformat_minor": 2
}
