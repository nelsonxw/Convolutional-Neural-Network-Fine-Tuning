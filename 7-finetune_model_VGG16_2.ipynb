{
 "cells": [
  {
   "cell_type": "code",
   "execution_count": 1,
   "metadata": {},
   "outputs": [
    {
     "name": "stderr",
     "output_type": "stream",
     "text": [
      "Using TensorFlow backend.\n"
     ]
    }
   ],
   "source": [
    "#import dependencies \n",
    "import os\n",
    "import numpy as np\n",
    "import tensorflow as tf\n",
    "import keras\n",
    "from keras.preprocessing import image\n",
    "from keras.applications.vgg16 import (VGG16, preprocess_input, decode_predictions)\n",
    "from keras import models\n",
    "from keras import layers\n",
    "from keras import optimizers\n",
    "from keras.preprocessing.image import ImageDataGenerator\n",
    "import matplotlib.pyplot as plt\n",
    "from sklearn.metrics import confusion_matrix"
   ]
  },
  {
   "cell_type": "code",
   "execution_count": 2,
   "metadata": {
    "collapsed": true
   },
   "outputs": [],
   "source": [
    "#load the VGG16 model without the top layer or output layer\n",
    "trained_model = VGG16(\n",
    "    include_top=False,\n",
    "    weights='imagenet',\n",
    "    input_shape=(224,224,3))"
   ]
  },
  {
   "cell_type": "code",
   "execution_count": 3,
   "metadata": {
    "collapsed": true
   },
   "outputs": [],
   "source": [
    "#freeze all layers except last 4 layers and make them trainable\n",
    "for layer in trained_model.layers[:-4]:\n",
    "    layer.trainable = False"
   ]
  },
  {
   "cell_type": "code",
   "execution_count": 4,
   "metadata": {},
   "outputs": [
    {
     "name": "stdout",
     "output_type": "stream",
     "text": [
      "<keras.engine.input_layer.InputLayer object at 0x0000029D63BF00B8> False\n",
      "<keras.layers.convolutional.Conv2D object at 0x0000029D63BF01D0> False\n",
      "<keras.layers.convolutional.Conv2D object at 0x0000029D637A6DD8> False\n",
      "<keras.layers.pooling.MaxPooling2D object at 0x0000029D638900B8> False\n",
      "<keras.layers.convolutional.Conv2D object at 0x0000029D63BF0B38> False\n",
      "<keras.layers.convolutional.Conv2D object at 0x0000029D63C15A58> False\n",
      "<keras.layers.pooling.MaxPooling2D object at 0x0000029D63C3CFD0> False\n",
      "<keras.layers.convolutional.Conv2D object at 0x0000029D63C5F908> False\n",
      "<keras.layers.convolutional.Conv2D object at 0x0000029D63C72828> False\n",
      "<keras.layers.convolutional.Conv2D object at 0x0000029D63C85E80> False\n",
      "<keras.layers.pooling.MaxPooling2D object at 0x0000029D63C96F28> False\n",
      "<keras.layers.convolutional.Conv2D object at 0x0000029D63CBCA58> False\n",
      "<keras.layers.convolutional.Conv2D object at 0x0000029D63CCDC88> False\n",
      "<keras.layers.convolutional.Conv2D object at 0x0000029D63CE1AC8> False\n",
      "<keras.layers.pooling.MaxPooling2D object at 0x0000029D63D05DA0> False\n",
      "<keras.layers.convolutional.Conv2D object at 0x0000029D63D1BB70> True\n",
      "<keras.layers.convolutional.Conv2D object at 0x0000029D63D2DDA0> True\n",
      "<keras.layers.convolutional.Conv2D object at 0x0000029D63D3D6A0> True\n",
      "<keras.layers.pooling.MaxPooling2D object at 0x0000029D63D63E80> True\n"
     ]
    }
   ],
   "source": [
    "#check if the last 4 layers are trainable\n",
    "for layer in trained_model.layers:\n",
    "    print(layer,layer.trainable)"
   ]
  },
  {
   "cell_type": "code",
   "execution_count": 5,
   "metadata": {
    "collapsed": true
   },
   "outputs": [],
   "source": [
    "#create my fine tuned model\n",
    "my_model = models.Sequential()\n",
    "#use VGG16 model as the base\n",
    "my_model.add(trained_model)\n",
    "my_model.add(layers.Flatten())\n",
    "#add another layer with 'relu' activation\n",
    "my_model.add(layers.Dense(1024, activation='relu'))\n",
    "#add drop out regularization to reduce overfit\n",
    "my_model.add(layers.Dropout(0.5))\n",
    "#add output layer with 'softmax' activation for 5 classes / flower names\n",
    "my_model.add(layers.Dense(5, activation='softmax'))"
   ]
  },
  {
   "cell_type": "code",
   "execution_count": 6,
   "metadata": {},
   "outputs": [
    {
     "name": "stdout",
     "output_type": "stream",
     "text": [
      "_________________________________________________________________\n",
      "Layer (type)                 Output Shape              Param #   \n",
      "=================================================================\n",
      "vgg16 (Model)                (None, 7, 7, 512)         14714688  \n",
      "_________________________________________________________________\n",
      "flatten_1 (Flatten)          (None, 25088)             0         \n",
      "_________________________________________________________________\n",
      "dense_1 (Dense)              (None, 1024)              25691136  \n",
      "_________________________________________________________________\n",
      "dropout_1 (Dropout)          (None, 1024)              0         \n",
      "_________________________________________________________________\n",
      "dense_2 (Dense)              (None, 5)                 5125      \n",
      "=================================================================\n",
      "Total params: 40,410,949\n",
      "Trainable params: 32,775,685\n",
      "Non-trainable params: 7,635,264\n",
      "_________________________________________________________________\n"
     ]
    }
   ],
   "source": [
    "#show model summary\n",
    "my_model.summary()"
   ]
  },
  {
   "cell_type": "code",
   "execution_count": 7,
   "metadata": {
    "collapsed": true
   },
   "outputs": [],
   "source": [
    "#pre-process training data, use data augmentation to increase the amount of training data and reduce overfit\n",
    "train_datagen = ImageDataGenerator(\n",
    "      rescale=1./255,\n",
    "      rotation_range=20,\n",
    "      width_shift_range=0.2,\n",
    "      height_shift_range=0.2,\n",
    "      horizontal_flip=True,\n",
    "      fill_mode='nearest')\n",
    "\n",
    "#pre-process validation data\n",
    "validation_datagen = ImageDataGenerator(rescale=1./255)"
   ]
  },
  {
   "cell_type": "code",
   "execution_count": 8,
   "metadata": {
    "collapsed": true
   },
   "outputs": [],
   "source": [
    "#specify training and validation batch size\n",
    "training_batchsize = 50\n",
    "validation_batchsize = 10\n",
    "\n",
    "#specify training data and validation data path\n",
    "training_path = \"Data/ImageNet_images/training\"\n",
    "validation_path = \"Data/ImageNet_images/validation\"\n",
    "\n",
    "#specify image size used in the model\n",
    "image_size = (224,224)"
   ]
  },
  {
   "cell_type": "code",
   "execution_count": 9,
   "metadata": {},
   "outputs": [
    {
     "name": "stdout",
     "output_type": "stream",
     "text": [
      "Found 2250 images belonging to 5 classes.\n",
      "Found 250 images belonging to 5 classes.\n"
     ]
    }
   ],
   "source": [
    "#generate training data from pictures folder\n",
    "train_generator = train_datagen.flow_from_directory(\n",
    "        training_path,\n",
    "        target_size=image_size,\n",
    "        batch_size=training_batchsize,\n",
    "        class_mode='categorical')\n",
    " \n",
    "#generate validation data from pictures folder\n",
    "validation_generator = validation_datagen.flow_from_directory(\n",
    "    validation_path,\n",
    "    target_size=image_size,\n",
    "    batch_size=validation_batchsize,\n",
    "    class_mode='categorical',\n",
    "    shuffle=False)"
   ]
  },
  {
   "cell_type": "code",
   "execution_count": 10,
   "metadata": {},
   "outputs": [
    {
     "name": "stdout",
     "output_type": "stream",
     "text": [
      "Epoch 1/30\n",
      " - 1591s - loss: 0.9608 - acc: 0.6347 - val_loss: 0.5442 - val_acc: 0.7840\n",
      "Epoch 2/30\n",
      " - 1632s - loss: 0.4079 - acc: 0.8542 - val_loss: 0.3469 - val_acc: 0.8640\n",
      "Epoch 3/30\n",
      " - 1630s - loss: 0.3125 - acc: 0.8902 - val_loss: 0.3018 - val_acc: 0.8800\n",
      "Epoch 4/30\n",
      " - 1695s - loss: 0.2602 - acc: 0.9040 - val_loss: 0.4559 - val_acc: 0.8280\n",
      "Epoch 5/30\n",
      " - 1684s - loss: 0.2060 - acc: 0.9267 - val_loss: 0.3230 - val_acc: 0.8880\n",
      "Epoch 6/30\n",
      " - 1679s - loss: 0.1952 - acc: 0.9240 - val_loss: 0.3376 - val_acc: 0.8800\n",
      "Epoch 7/30\n",
      " - 1678s - loss: 0.1709 - acc: 0.9378 - val_loss: 0.2730 - val_acc: 0.8840\n",
      "Epoch 8/30\n",
      " - 1691s - loss: 0.1393 - acc: 0.9542 - val_loss: 0.3766 - val_acc: 0.8840\n",
      "Epoch 9/30\n",
      " - 1745s - loss: 0.1283 - acc: 0.9556 - val_loss: 0.2867 - val_acc: 0.8960\n",
      "Epoch 10/30\n",
      " - 1738s - loss: 0.1290 - acc: 0.9591 - val_loss: 0.4809 - val_acc: 0.8640\n",
      "Epoch 11/30\n",
      " - 1629s - loss: 0.0970 - acc: 0.9631 - val_loss: 0.3504 - val_acc: 0.8720\n",
      "Epoch 12/30\n",
      " - 1652s - loss: 0.0945 - acc: 0.9689 - val_loss: 0.2806 - val_acc: 0.9040\n",
      "Epoch 13/30\n",
      " - 1627s - loss: 0.0850 - acc: 0.9698 - val_loss: 0.3827 - val_acc: 0.9000\n",
      "Epoch 14/30\n",
      " - 1606s - loss: 0.0784 - acc: 0.9720 - val_loss: 0.8593 - val_acc: 0.8280\n",
      "Epoch 15/30\n",
      " - 1562s - loss: 0.0702 - acc: 0.9804 - val_loss: 0.2884 - val_acc: 0.9120\n",
      "Epoch 16/30\n",
      " - 1525s - loss: 0.0738 - acc: 0.9756 - val_loss: 0.2877 - val_acc: 0.9200\n",
      "Epoch 17/30\n",
      " - 1524s - loss: 0.0593 - acc: 0.9804 - val_loss: 0.4777 - val_acc: 0.8800\n",
      "Epoch 18/30\n",
      " - 1520s - loss: 0.0601 - acc: 0.9831 - val_loss: 0.4294 - val_acc: 0.8840\n",
      "Epoch 19/30\n",
      " - 1521s - loss: 0.0472 - acc: 0.9858 - val_loss: 0.3667 - val_acc: 0.9200\n",
      "Epoch 20/30\n",
      " - 1520s - loss: 0.0438 - acc: 0.9849 - val_loss: 0.4742 - val_acc: 0.9040\n",
      "Epoch 21/30\n",
      " - 1522s - loss: 0.0580 - acc: 0.9836 - val_loss: 0.5559 - val_acc: 0.8960\n",
      "Epoch 22/30\n",
      " - 1519s - loss: 0.0480 - acc: 0.9867 - val_loss: 0.3483 - val_acc: 0.9200\n",
      "Epoch 23/30\n",
      " - 1521s - loss: 0.0424 - acc: 0.9862 - val_loss: 0.4186 - val_acc: 0.9240\n",
      "Epoch 24/30\n",
      " - 1521s - loss: 0.0425 - acc: 0.9840 - val_loss: 0.3228 - val_acc: 0.8880\n",
      "Epoch 25/30\n",
      " - 1518s - loss: 0.0443 - acc: 0.9876 - val_loss: 0.8773 - val_acc: 0.8600\n",
      "Epoch 26/30\n",
      " - 1520s - loss: 0.0349 - acc: 0.9893 - val_loss: 0.6120 - val_acc: 0.8960\n",
      "Epoch 27/30\n",
      " - 1520s - loss: 0.0447 - acc: 0.9862 - val_loss: 0.4982 - val_acc: 0.9120\n",
      "Epoch 28/30\n",
      " - 1526s - loss: 0.0367 - acc: 0.9884 - val_loss: 0.3476 - val_acc: 0.9120\n",
      "Epoch 29/30\n",
      " - 1519s - loss: 0.0318 - acc: 0.9902 - val_loss: 0.4050 - val_acc: 0.8920\n",
      "Epoch 30/30\n",
      " - 1520s - loss: 0.0482 - acc: 0.9871 - val_loss: 0.3762 - val_acc: 0.9040\n"
     ]
    }
   ],
   "source": [
    "#compile the model\n",
    "my_model.compile(loss='categorical_crossentropy',\n",
    "            optimizer=optimizers.RMSprop(lr=3e-5),\n",
    "            metrics=['acc'])\n",
    "#my_model.compile(loss='categorical_crossentropy',\n",
    " #            optimizer=optimizers.Adamax(lr=1e-5),\n",
    "  #          metrics=['acc'])\n",
    "#my_model.compile(loss='categorical_crossentropy',\n",
    " #             optimizer=optimizers.Nadam(lr=1e-5),\n",
    "  #            metrics=['acc'])\n",
    "\n",
    "#train the model\n",
    "history = my_model.fit_generator(\n",
    "      train_generator,\n",
    "      steps_per_epoch=train_generator.samples/train_generator.batch_size ,\n",
    "      epochs=30,\n",
    "      validation_data=validation_generator,\n",
    "      validation_steps=validation_generator.samples/validation_generator.batch_size,\n",
    "      verbose=2)\n",
    " \n",
    "#save the model\n",
    "my_model.save('my_model2.h5')"
   ]
  },
  {
   "cell_type": "code",
   "execution_count": 11,
   "metadata": {},
   "outputs": [
    {
     "data": {
      "image/png": "[encoded data removed]",
      "text/plain": [
       "<matplotlib.figure.Figure at 0x29d66415c50>"
      ]
     },
     "metadata": {},
     "output_type": "display_data"
    },
    {
     "data": {
      "image/png": "[encoded data removed]",
      "text/plain": [
       "<matplotlib.figure.Figure at 0x29d00fee278>"
      ]
     },
     "metadata": {},
     "output_type": "display_data"
    }
   ],
   "source": [
    "#plot training and validation accuracy, training and validation loss\n",
    "acc = history.history['acc']\n",
    "val_acc = history.history['val_acc']\n",
    "loss = history.history['loss']\n",
    "val_loss = history.history['val_loss']\n",
    " \n",
    "epochs = range(len(acc))\n",
    " \n",
    "plt.figure(figsize=(8,5))\n",
    "plt.plot(epochs, acc, 'b', label='Training acc')\n",
    "plt.plot(epochs, val_acc, 'r', label='Validation acc')\n",
    "plt.title('Training and validation accuracy')\n",
    "plt.legend()\n",
    " \n",
    "plt.figure(figsize=(8,5)) \n",
    "plt.plot(epochs, loss, 'b', label='Training loss')\n",
    "plt.plot(epochs, val_loss, 'r', label='Validation loss')\n",
    "plt.title('Training and validation loss')\n",
    "plt.legend()\n",
    " \n",
    "plt.show()"
   ]
  }
 ],
 "metadata": {
  "kernelspec": {
   "display_name": "Python 3",
   "language": "python",
   "name": "python3"
  },
  "language_info": {
   "codemirror_mode": {
    "name": "ipython",
    "version": 3
   },
   "file_extension": ".py",
   "mimetype": "text/x-python",
   "name": "python",
   "nbconvert_exporter": "python",
   "pygments_lexer": "ipython3",
   "version": "3.6.3"
  }
 },
 "nbformat": 4,
 "nbformat_minor": 2
}
