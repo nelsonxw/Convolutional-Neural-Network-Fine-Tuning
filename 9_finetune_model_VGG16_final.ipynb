{
 "cells": [
  {
   "cell_type": "code",
   "execution_count": 1,
   "metadata": {},
   "outputs": [
    {
     "name": "stderr",
     "output_type": "stream",
     "text": [
      "Using TensorFlow backend.\n"
     ]
    }
   ],
   "source": [
    "#import dependencies\n",
    "import os\n",
    "import numpy as np\n",
    "import tensorflow as tf\n",
    "import keras\n",
    "from keras.preprocessing import image\n",
    "from keras.applications.vgg16 import (VGG16, preprocess_input, decode_predictions)\n",
    "from keras import models\n",
    "from keras import layers\n",
    "from keras import optimizers\n",
    "from keras.preprocessing.image import ImageDataGenerator\n",
    "import matplotlib.pyplot as plt\n",
    "from sklearn.metrics import confusion_matrix"
   ]
  },
  {
   "cell_type": "code",
   "execution_count": 2,
   "metadata": {
    "collapsed": true
   },
   "outputs": [],
   "source": [
    "#import pre-trained model without top layer\n",
    "trained_model = VGG16(\n",
    "    include_top=False,\n",
    "    weights='imagenet',\n",
    "    input_shape=(224,224,3))"
   ]
  },
  {
   "cell_type": "code",
   "execution_count": 3,
   "metadata": {
    "collapsed": true
   },
   "outputs": [],
   "source": [
    "#freeze the layers to prevent re-training except for the last 4 layers\n",
    "for layer in trained_model.layers[:-4]:\n",
    "    layer.trainable = False"
   ]
  },
  {
   "cell_type": "code",
   "execution_count": 4,
   "metadata": {},
   "outputs": [
    {
     "name": "stdout",
     "output_type": "stream",
     "text": [
      "<keras.engine.input_layer.InputLayer object at 0x000001CE8409F198> False\n",
      "<keras.layers.convolutional.Conv2D object at 0x000001CE8409F4A8> False\n",
      "<keras.layers.convolutional.Conv2D object at 0x000001CE8404DA58> False\n",
      "<keras.layers.pooling.MaxPooling2D object at 0x000001CE83C7EF60> False\n",
      "<keras.layers.convolutional.Conv2D object at 0x000001CE83C8A550> False\n",
      "<keras.layers.convolutional.Conv2D object at 0x000001CE840C4B38> False\n",
      "<keras.layers.pooling.MaxPooling2D object at 0x000001CE840FBBE0> False\n",
      "<keras.layers.convolutional.Conv2D object at 0x000001CE8410C9E8> False\n",
      "<keras.layers.convolutional.Conv2D object at 0x000001CE8411FEF0> False\n",
      "<keras.layers.convolutional.Conv2D object at 0x000001CE84131FD0> False\n",
      "<keras.layers.pooling.MaxPooling2D object at 0x000001CE84159CF8> False\n",
      "<keras.layers.convolutional.Conv2D object at 0x000001CE8416AB00> False\n",
      "<keras.layers.convolutional.Conv2D object at 0x000001CE8417BD30> False\n",
      "<keras.layers.convolutional.Conv2D object at 0x000001CE8418C5C0> False\n",
      "<keras.layers.pooling.MaxPooling2D object at 0x000001CE841B3E48> False\n",
      "<keras.layers.convolutional.Conv2D object at 0x000001CE841C8C18> True\n",
      "<keras.layers.convolutional.Conv2D object at 0x000001CE841DBE48> True\n",
      "<keras.layers.convolutional.Conv2D object at 0x000001CE841EB748> True\n",
      "<keras.layers.pooling.MaxPooling2D object at 0x000001CE8420FF98> True\n"
     ]
    }
   ],
   "source": [
    "#check if the last 4 layers are trainable\n",
    "for layer in trained_model.layers:\n",
    "    print(layer,layer.trainable)"
   ]
  },
  {
   "cell_type": "code",
   "execution_count": 5,
   "metadata": {
    "collapsed": true
   },
   "outputs": [],
   "source": [
    "#based on pre-trained model, add new layers and output layer to train for new dataset\n",
    "my_model = models.Sequential()\n",
    "my_model.add(trained_model)\n",
    "my_model.add(layers.Flatten())\n",
    "my_model.add(layers.Dense(256, activation='relu'))\n",
    "my_model.add(layers.Dropout(0.5))\n",
    "my_model.add(layers.Dense(5, activation='softmax'))"
   ]
  },
  {
   "cell_type": "code",
   "execution_count": 6,
   "metadata": {},
   "outputs": [
    {
     "name": "stdout",
     "output_type": "stream",
     "text": [
      "_________________________________________________________________\n",
      "Layer (type)                 Output Shape              Param #   \n",
      "=================================================================\n",
      "vgg16 (Model)                (None, 7, 7, 512)         14714688  \n",
      "_________________________________________________________________\n",
      "flatten_1 (Flatten)          (None, 25088)             0         \n",
      "_________________________________________________________________\n",
      "dense_1 (Dense)              (None, 256)               6422784   \n",
      "_________________________________________________________________\n",
      "dropout_1 (Dropout)          (None, 256)               0         \n",
      "_________________________________________________________________\n",
      "dense_2 (Dense)              (None, 5)                 1285      \n",
      "=================================================================\n",
      "Total params: 21,138,757\n",
      "Trainable params: 13,503,493\n",
      "Non-trainable params: 7,635,264\n",
      "_________________________________________________________________\n"
     ]
    }
   ],
   "source": [
    "#show new model summary\n",
    "my_model.summary()"
   ]
  },
  {
   "cell_type": "code",
   "execution_count": 7,
   "metadata": {
    "collapsed": true
   },
   "outputs": [],
   "source": [
    "#preprocess image data\n",
    "#since the number of pictures in the training dataset is small, use data augumentation to make the most of training pictures\n",
    "train_datagen = ImageDataGenerator(\n",
    "      rescale=1./255,\n",
    "      rotation_range=20,\n",
    "      width_shift_range=0.2,\n",
    "      height_shift_range=0.2,\n",
    "      horizontal_flip=True,\n",
    "      fill_mode='nearest')\n",
    " \n",
    "validation_datagen = ImageDataGenerator(rescale=1./255)"
   ]
  },
  {
   "cell_type": "code",
   "execution_count": 8,
   "metadata": {
    "collapsed": true
   },
   "outputs": [],
   "source": [
    "#define training batches and paths of training dataset and validation dataset\n",
    "training_batchsize = 50\n",
    "validation_batchsize = 10\n",
    "training_path = \"Data/ImageNet_images/training\"\n",
    "validation_path = \"Data/ImageNet_images/validation\"\n",
    "image_size = (224,224)"
   ]
  },
  {
   "cell_type": "code",
   "execution_count": 9,
   "metadata": {},
   "outputs": [
    {
     "name": "stdout",
     "output_type": "stream",
     "text": [
      "Found 5765 images belonging to 5 classes.\n",
      "Found 500 images belonging to 5 classes.\n"
     ]
    }
   ],
   "source": [
    "#get training data and validation data\n",
    "train_generator = train_datagen.flow_from_directory(\n",
    "        training_path,\n",
    "        target_size=image_size,\n",
    "        batch_size=training_batchsize,\n",
    "        class_mode='categorical')\n",
    " \n",
    "validation_generator = validation_datagen.flow_from_directory(\n",
    "        validation_path,\n",
    "        target_size=image_size,\n",
    "        batch_size=validation_batchsize,\n",
    "        class_mode='categorical',\n",
    "        shuffle=False)"
   ]
  },
  {
   "cell_type": "code",
   "execution_count": 10,
   "metadata": {},
   "outputs": [
    {
     "name": "stdout",
     "output_type": "stream",
     "text": [
      "Epoch 1/30\n",
      " - 3771s - loss: 1.0196 - acc: 0.6008 - val_loss: 0.4730 - val_acc: 0.8140\n",
      "Epoch 2/30\n",
      " - 3714s - loss: 0.5156 - acc: 0.8116 - val_loss: 0.3179 - val_acc: 0.8740\n",
      "Epoch 3/30\n",
      " - 3701s - loss: 0.3933 - acc: 0.8637 - val_loss: 0.2663 - val_acc: 0.8860\n",
      "Epoch 4/30\n",
      " - 3698s - loss: 0.3233 - acc: 0.8898 - val_loss: 0.2568 - val_acc: 0.8980\n",
      "Epoch 5/30\n",
      " - 3707s - loss: 0.2867 - acc: 0.9002 - val_loss: 0.2239 - val_acc: 0.9140\n",
      "Epoch 6/30\n",
      " - 3700s - loss: 0.2597 - acc: 0.9071 - val_loss: 0.2022 - val_acc: 0.9260\n",
      "Epoch 7/30\n",
      " - 3708s - loss: 0.2285 - acc: 0.9234 - val_loss: 0.1992 - val_acc: 0.9260\n",
      "Epoch 8/30\n",
      " - 3708s - loss: 0.2144 - acc: 0.9203 - val_loss: 0.1953 - val_acc: 0.9280\n",
      "Epoch 9/30\n",
      " - 3702s - loss: 0.1956 - acc: 0.9287 - val_loss: 0.2254 - val_acc: 0.9240\n",
      "Epoch 10/30\n",
      " - 3684s - loss: 0.1833 - acc: 0.9325 - val_loss: 0.1894 - val_acc: 0.9340\n",
      "Epoch 11/30\n",
      " - 3681s - loss: 0.1761 - acc: 0.9382 - val_loss: 0.1746 - val_acc: 0.9380\n",
      "Epoch 12/30\n",
      " - 3743s - loss: 0.1557 - acc: 0.9448 - val_loss: 0.1798 - val_acc: 0.9340\n",
      "Epoch 13/30\n",
      " - 3942s - loss: 0.1511 - acc: 0.9443 - val_loss: 0.1710 - val_acc: 0.9440\n",
      "Epoch 14/30\n",
      " - 3925s - loss: 0.1396 - acc: 0.9515 - val_loss: 0.1710 - val_acc: 0.9440\n",
      "Epoch 15/30\n",
      " - 3954s - loss: 0.1362 - acc: 0.9513 - val_loss: 0.1595 - val_acc: 0.9400\n",
      "Epoch 16/30\n",
      " - 3882s - loss: 0.1153 - acc: 0.9589 - val_loss: 0.1812 - val_acc: 0.9480\n",
      "Epoch 17/30\n",
      " - 4002s - loss: 0.1186 - acc: 0.9598 - val_loss: 0.2202 - val_acc: 0.9320\n",
      "Epoch 18/30\n",
      " - 3792s - loss: 0.1160 - acc: 0.9556 - val_loss: 0.1664 - val_acc: 0.9460\n",
      "Epoch 19/30\n",
      " - 3651s - loss: 0.1006 - acc: 0.9618 - val_loss: 0.1907 - val_acc: 0.9440\n",
      "Epoch 20/30\n",
      " - 3655s - loss: 0.0980 - acc: 0.9624 - val_loss: 0.1840 - val_acc: 0.9440\n",
      "Epoch 21/30\n",
      " - 3652s - loss: 0.0881 - acc: 0.9716 - val_loss: 0.1781 - val_acc: 0.9420\n",
      "Epoch 22/30\n",
      " - 3672s - loss: 0.0812 - acc: 0.9727 - val_loss: 0.1870 - val_acc: 0.9500\n",
      "Epoch 23/30\n",
      " - 3812s - loss: 0.0872 - acc: 0.9696 - val_loss: 0.2347 - val_acc: 0.9380\n",
      "Epoch 24/30\n",
      " - 3866s - loss: 0.0717 - acc: 0.9738 - val_loss: 0.1985 - val_acc: 0.9460\n",
      "Epoch 25/30\n",
      " - 3700s - loss: 0.0712 - acc: 0.9739 - val_loss: 0.2186 - val_acc: 0.9380\n",
      "Epoch 26/30\n",
      " - 3656s - loss: 0.0712 - acc: 0.9727 - val_loss: 0.2052 - val_acc: 0.9400\n",
      "Epoch 27/30\n",
      " - 3647s - loss: 0.0655 - acc: 0.9758 - val_loss: 0.2733 - val_acc: 0.9440\n",
      "Epoch 28/30\n",
      " - 3654s - loss: 0.0606 - acc: 0.9775 - val_loss: 0.2150 - val_acc: 0.9440\n",
      "Epoch 29/30\n",
      " - 3651s - loss: 0.0562 - acc: 0.9803 - val_loss: 0.2148 - val_acc: 0.9420\n",
      "Epoch 30/30\n",
      " - 3651s - loss: 0.0535 - acc: 0.9836 - val_loss: 0.2288 - val_acc: 0.9500\n"
     ]
    }
   ],
   "source": [
    "# Compile the model\n",
    "my_model.compile(loss='categorical_crossentropy',\n",
    "            optimizer=optimizers.RMSprop(lr=1e-5),\n",
    "            metrics=['acc'])\n",
    "#my_model.compile(loss='categorical_crossentropy',\n",
    " #            optimizer=optimizers.Adamax(lr=1e-5),\n",
    "  #          metrics=['acc'])\n",
    "#my_model.compile(loss='categorical_crossentropy',\n",
    " #             optimizer=optimizers.Nadam(lr=1e-5),\n",
    "  #            metrics=['acc'])\n",
    "\n",
    "# Train the model\n",
    "history = my_model.fit_generator(\n",
    "      train_generator,\n",
    "      steps_per_epoch=train_generator.samples/train_generator.batch_size ,\n",
    "      epochs=30,\n",
    "      validation_data=validation_generator,\n",
    "      validation_steps=validation_generator.samples/validation_generator.batch_size,\n",
    "      verbose=2)\n",
    " \n",
    "# Save the model\n",
    "my_model.save('my_model_final.h5')"
   ]
  },
  {
   "cell_type": "code",
   "execution_count": 11,
   "metadata": {},
   "outputs": [
    {
     "data": {
      "image/png": "[encoded data removed]",
      "text/plain": [
       "<matplotlib.figure.Figure at 0x1ce84906128>"
      ]
     },
     "metadata": {},
     "output_type": "display_data"
    },
    {
     "data": {
      "image/png": "[encoded data removed]",
      "text/plain": [
       "<matplotlib.figure.Figure at 0x1ce867d3a58>"
      ]
     },
     "metadata": {},
     "output_type": "display_data"
    }
   ],
   "source": [
    "#plot training and validation accuracy, training and validation loss\n",
    "acc = history.history['acc']\n",
    "val_acc = history.history['val_acc']\n",
    "loss = history.history['loss']\n",
    "val_loss = history.history['val_loss']\n",
    " \n",
    "epochs = range(len(acc))\n",
    " \n",
    "plt.figure(figsize=(8,5))\n",
    "plt.plot(epochs, acc, 'b', label='Training acc')\n",
    "plt.plot(epochs, val_acc, 'r', label='Validation acc')\n",
    "plt.title('Training and validation accuracy')\n",
    "plt.legend()\n",
    " \n",
    "plt.figure(figsize=(8,5)) \n",
    "plt.plot(epochs, loss, 'b', label='Training loss')\n",
    "plt.plot(epochs, val_loss, 'r', label='Validation loss')\n",
    "plt.title('Training and validation loss')\n",
    "plt.legend()\n",
    " \n",
    "plt.show()"
   ]
  },
  {
   "cell_type": "code",
   "execution_count": 12,
   "metadata": {
    "collapsed": true
   },
   "outputs": [],
   "source": [
    "#get the predicted flower class from the new model\n",
    "predicted_class = my_model.predict_generator(validation_generator)\n",
    "#for each picture, the prediction is a list of probabilities of each class.  Identify the max probability and return its\n",
    "#index which represents the index of class labels in the model\n",
    "predicted_class = np.argmax(predicted_class, axis=1)"
   ]
  },
  {
   "cell_type": "code",
   "execution_count": 13,
   "metadata": {
    "collapsed": true
   },
   "outputs": [],
   "source": [
    "#get the actual flower class from the validation data\n",
    "actual_class = validation_generator.classes"
   ]
  },
  {
   "cell_type": "code",
   "execution_count": 14,
   "metadata": {
    "collapsed": true
   },
   "outputs": [],
   "source": [
    "#create confusion matrix\n",
    "cnf_matrix = confusion_matrix(actual_class, predicted_class)"
   ]
  },
  {
   "cell_type": "code",
   "execution_count": 15,
   "metadata": {
    "collapsed": true
   },
   "outputs": [],
   "source": [
    "#define a function to plot the confusion matrix\n",
    "def plot_confusion_matrix(cm, classes):\n",
    "    plt.figure(figsize=(8,6))\n",
    "    plt.imshow(cm, interpolation='nearest', cmap=plt.cm.Blues)\n",
    "    plt.title('Confusion matrix',fontsize=20)\n",
    "    plt.colorbar()\n",
    "    tick_marks = np.arange(len(classes))\n",
    "    plt.xticks(tick_marks, classes, rotation=45)\n",
    "    plt.yticks(tick_marks, classes)\n",
    "\n",
    "    #define a threshhold to change font color so that dark background will have light colored text\n",
    "    threshold = cm.max() / 2.\n",
    "    #use for loop to plot text to the confusion matrix\n",
    "    for i in range(cm.shape[0]):\n",
    "        for j in range(cm.shape[1]):\n",
    "            #text is plotted from left to right, so use (j,i), not (i,j)\n",
    "            plt.text(j,i,cm[i,j],horizontalalignment=\"center\",\n",
    "                 color=\"white\" if cm[i, j] > threshold else \"black\")\n",
    "    plt.ylabel('Actual Flower Class')\n",
    "    plt.xlabel('Predicted Flower Class')"
   ]
  },
  {
   "cell_type": "code",
   "execution_count": 16,
   "metadata": {},
   "outputs": [
    {
     "data": {
      "image/png": "[encoded data removed]",
      "text/plain": [
       "<matplotlib.figure.Figure at 0x1ce84958518>"
      ]
     },
     "metadata": {},
     "output_type": "display_data"
    }
   ],
   "source": [
    "#plot the confusion matrix with class labels defined\n",
    "plot_confusion_matrix(cnf_matrix, classes=[\"daisy\",\"dandelion\",\"rose\",\"sunflower\",\"tulip\"])\n",
    "plt.show()"
   ]
  }
 ],
 "metadata": {
  "kernelspec": {
   "display_name": "Python 3",
   "language": "python",
   "name": "python3"
  },
  "language_info": {
   "codemirror_mode": {
    "name": "ipython",
    "version": 3
   },
   "file_extension": ".py",
   "mimetype": "text/x-python",
   "name": "python",
   "nbconvert_exporter": "python",
   "pygments_lexer": "ipython3",
   "version": "3.6.3"
  }
 },
 "nbformat": 4,
 "nbformat_minor": 2
}
