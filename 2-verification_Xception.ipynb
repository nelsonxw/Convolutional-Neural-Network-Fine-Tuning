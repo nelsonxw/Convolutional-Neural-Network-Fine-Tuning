{
 "cells": [
  {
   "cell_type": "code",
   "execution_count": 1,
   "metadata": {},
   "outputs": [
    {
     "name": "stderr",
     "output_type": "stream",
     "text": [
      "Using TensorFlow backend.\n"
     ]
    }
   ],
   "source": [
    "#import dependencies \n",
    "import os\n",
    "import numpy as np\n",
    "import tensorflow as tf\n",
    "import keras\n",
    "from keras.preprocessing import image\n",
    "from keras.applications.xception import (\n",
    "    Xception, preprocess_input, decode_predictions)"
   ]
  },
  {
   "cell_type": "code",
   "execution_count": 2,
   "metadata": {
    "collapsed": true
   },
   "outputs": [],
   "source": [
    "#load the Xception model\n",
    "mymodel = Xception(\n",
    "    include_top=True,\n",
    "    weights='imagenet')"
   ]
  },
  {
   "cell_type": "code",
   "execution_count": 3,
   "metadata": {
    "collapsed": true
   },
   "outputs": [],
   "source": [
    "#set the default image size for Xception\n",
    "image_size = (299, 299)"
   ]
  },
  {
   "cell_type": "code",
   "execution_count": 4,
   "metadata": {
    "collapsed": true
   },
   "outputs": [],
   "source": [
    "#define folder path, flower name list and ouput dictionary\n",
    "folder_path = \"Data/Kaggle_images/test/\"\n",
    "flower_list = ['daisy','dandelion','rose','sunflower','tulip']\n",
    "output = {\"flower_name\":[],\"predict_accuracy\":[]}"
   ]
  },
  {
   "cell_type": "code",
   "execution_count": 5,
   "metadata": {},
   "outputs": [
    {
     "name": "stdout",
     "output_type": "stream",
     "text": [
      "total number of daisy images: 75\n",
      "number of correct predictions: 60\n",
      "accuracy: 0.8\n",
      "['daisy', 'daisy', 'pot', 'fly', 'daisy', 'clog', 'daisy', 'daisy', 'daisy', 'daisy', 'daisy', 'bee', 'daisy', 'daisy', 'daisy', 'daisy', 'daisy', 'daisy', 'daisy', 'tabby', 'daisy', 'vase', 'head_cabbage', 'daisy', 'daisy', 'daisy', 'rapeseed', 'daisy', 'daisy', 'daisy', 'daisy', 'daisy', 'daisy', 'daisy', 'daisy', 'daisy', 'daisy', 'daisy', 'rapeseed', 'bee', 'daisy', 'daisy', 'daisy', 'daisy', 'daisy', 'pot', 'daisy', 'cabbage_butterfly', 'daisy', 'oystercatcher', 'daisy', 'daisy', 'daisy', 'daisy', 'daisy', 'hip', 'daisy', 'daisy', 'daisy', 'daisy', 'daisy', 'daisy', 'daisy', 'daisy', 'daisy', 'daisy', 'daisy', 'cliff', 'daisy', 'daisy', 'daisy', 'daisy', 'daisy', 'daisy', 'daisy']\n",
      "\n",
      "total number of dandelion images: 98\n",
      "number of correct predictions: 0\n",
      "accuracy: 0.0\n",
      "['cardoon', 'cardoon', 'buckeye', 'quill', 'quill', 'cardoon', 'bubble', 'eft', 'vase', 'mushroom', 'bee', 'cardoon', 'daisy', 'cardoon', 'bee', 'bee', 'bee', 'bee', 'cardoon', 'earthstar', 'cabbage_butterfly', 'American_egret', 'fly', 'daisy', 'mushroom', 'daisy', 'daisy', 'ear', 'daisy', 'parachute', 'sea_urchin', 'cardoon', 'cabbage_butterfly', 'daisy', 'mushroom', 'greenhouse', 'porcupine', 'bee', 'alp', 'daisy', 'great_grey_owl', 'cardoon', 'pot', 'bee', 'cardoon', 'jellyfish', 'screwdriver', 'daisy', 'daisy', 'hermit_crab', 'lakeside', 'spider_web', 'manhole_cover', 'head_cabbage', 'cardoon', 'white_stork', 'cardoon', 'jellyfish', 'bubble', 'eft', 'armadillo', 'cardoon', 'cardoon', 'bubble', 'daisy', 'cardoon', 'traffic_light', \"yellow_lady's_slipper\", 'buckeye', 'cardoon', 'golf_ball', 'cabbage_butterfly', 'picket_fence', 'daisy', 'sea_urchin', 'sea_urchin', 'cardoon', 'cardoon', 'cardoon', 'cardoon', 'lighter', 'paintbrush', 'daisy', 'sea_urchin', 'barn', 'cardoon', 'rapeseed', 'cardoon', 'bee', 'cabbage_butterfly', 'dragonfly', 'cardoon', 'sulphur_butterfly', 'sulphur_butterfly', 'cardoon', 'daisy', 'sea_urchin', 'parachute']\n",
      "\n",
      "total number of rose images: 72\n",
      "number of correct predictions: 0\n",
      "accuracy: 0.0\n",
      "['picket_fence', 'greenhouse', 'pot', 'picket_fence', 'rapeseed', 'picket_fence', 'picket_fence', 'cardoon', 'plastic_bag', 'screen', 'greenhouse', 'cabbage_butterfly', 'rapeseed', 'daisy', 'picket_fence', 'daisy', 'rapeseed', 'artichoke', 'pot', 'marmot', 'rapeseed', 'greenhouse', 'rapeseed', 'bubble', 'picket_fence', 'television', 'corn', 'greenhouse', 'picket_fence', 'picket_fence', 'pot', 'groom', 'rapeseed', 'pot', 'picket_fence', 'cauliflower', 'knot', 'vase', 'barber_chair', 'pot', 'hair_slide', 'picket_fence', 'coil', 'hip', 'hip', 'ant', 'pot', 'pot', 'hip', 'bee', 'mantis', 'vase', 'snail', 'artichoke', 'velvet', 'doormat', 'artichoke', 'wool', 'coil', 'bell_pepper', 'pot', 'bell_pepper', 'rapeseed', 'rapeseed', 'diaper', 'rapeseed', 'picket_fence', 'head_cabbage', 'cucumber', 'confectionery', 'zucchini', 'picket_fence']\n",
      "\n",
      "total number of sunflower images: 76\n",
      "number of correct predictions: 0\n",
      "accuracy: 0.0\n",
      "['buckeye', 'vase', 'rapeseed', 'corn', 'daisy', 'daisy', 'pot', 'daisy', 'vase', 'corn', 'daisy', 'pot', 'overskirt', 'daisy', 'rapeseed', 'jellyfish', 'bee', 'daisy', 'bee', 'thatch', 'bee', 'cardoon', 'daisy', 'daisy', 'daisy', 'daisy', 'daisy', 'rapeseed', 'daisy', 'hip', 'daisy', 'buckeye', 'daisy', 'mobile_home', 'sulphur_butterfly', 'daisy', 'daisy', 'bee', 'bee', 'bee', 'daisy', 'daisy', 'ear', 'daisy', 'vase', 'daisy', 'daisy', 'ant', 'daisy', 'daisy', 'daisy', 'daisy', 'daisy', 'pot', \"yellow_lady's_slipper\", 'daisy', 'admiral', 'bee', 'daisy', 'daisy', 'cardoon', 'bee', 'daisy', 'daisy', 'daisy', 'daisy', 'hip', 'daisy', 'daisy', 'daisy', 'daisy', 'picket_fence', 'pot', 'pineapple', 'vase', 'daisy']\n",
      "\n",
      "total number of tulip images: 93\n",
      "number of correct predictions: 0\n",
      "accuracy: 0.0\n",
      "['hip', \"yellow_lady's_slipper\", 'bell_pepper', \"yellow_lady's_slipper\", 'picket_fence', 'picket_fence', \"yellow_lady's_slipper\", 'artichoke', 'ear', 'bee', 'bee', 'strawberry', 'daisy', 'pot', 'pinwheel', 'daisy', 'maypole', 'pinwheel', 'pot', 'hip', 'tray', 'pot', 'ladybug', 'orange', 'daisy', 'pot', 'pot', 'bell_pepper', 'American_lobster', \"yellow_lady's_slipper\", 'daisy', 'goblet', 'ant', 'bee', 'cloak', 'pinwheel', 'vase', 'mushroom', 'pinwheel', 'banana', 'pot', 'pinwheel', 'cardoon', 'bell_pepper', 'vase', 'plastic_bag', 'cardoon', \"yellow_lady's_slipper\", 'sea_anemone', 'daisy', 'overskirt', 'artichoke', 'pot', 'daisy', 'pinwheel', 'pot', 'rapeseed', 'mushroom', 'daisy', 'pot', 'pot', 'balloon', 'balloon', 'artichoke', 'balloon', \"yellow_lady's_slipper\", 'punching_bag', 'pot', 'pot', 'pot', 'umbrella', 'greenhouse', 'bell_pepper', 'pot', 'pot', 'vase', 'daisy', 'pot', 'daisy', 'goldfish', 'greenhouse', 'pot', 'pot', 'flamingo', 'mortarboard', 'mushroom', 'king_crab', 'grocery_store', 'bee', 'picket_fence', 'rapeseed', 'rapeseed', 'desk']\n",
      "\n"
     ]
    }
   ],
   "source": [
    "#loop through all flower names or classes in the flower list\n",
    "for flower in flower_list:\n",
    "    #get the list of image file names under each flower class\n",
    "    image_list = os.listdir(os.path.join(folder_path,flower))\n",
    "    #determine the total image count\n",
    "    total_count = len(image_list)\n",
    "    #set up counter for correct predictions and a list for predicted results\n",
    "    correct_count = 0\n",
    "    predict_result = []\n",
    "    #loop through all image files in the list\n",
    "    for image_file in image_list:\n",
    "        #if there is a windows Thumbs.db file, skip it and correct the total image count\n",
    "        if image_file == 'Thumbs.db':\n",
    "            total_count -= 1\n",
    "        else:\n",
    "            #get the path and file name of each image\n",
    "            image_path = os.path.join(folder_path,flower, image_file)\n",
    "            #load image and pre-process it\n",
    "            img = image.load_img(image_path, target_size=image_size)\n",
    "            x = image.img_to_array(img)\n",
    "            x = np.expand_dims(x, axis=0)\n",
    "            x = preprocess_input(x)\n",
    "            #predict the flower name with the model\n",
    "            predictions = mymodel.predict(x)\n",
    "            #get the result of predictions and add to list\n",
    "            result = decode_predictions(predictions, top=1)[0][0][1]\n",
    "            predict_result.append(result)\n",
    "            #if the predicted flower name is same as the flower class name, then correct count increase\n",
    "            if result.lower() == flower:\n",
    "                correct_count += 1\n",
    "    #print out results\n",
    "    print(f\"total number of {flower} images: {total_count}\")\n",
    "    print(f\"number of correct predictions: {correct_count}\")\n",
    "    print(f\"accuracy: {correct_count /  total_count}\")\n",
    "    print(predict_result)\n",
    "    print()\n",
    "    \n",
    "    #update the output dictionary with model name, flower name and prediction accuracy\n",
    "    output[\"flower_name\"].append(flower)\n",
    "    output[\"predict_accuracy\"].append(correct_count / total_count)"
   ]
  },
  {
   "cell_type": "code",
   "execution_count": null,
   "metadata": {
    "collapsed": true
   },
   "outputs": [],
   "source": []
  }
 ],
 "metadata": {
  "kernelspec": {
   "display_name": "Python 3",
   "language": "python",
   "name": "python3"
  },
  "language_info": {
   "codemirror_mode": {
    "name": "ipython",
    "version": 3
   },
   "file_extension": ".py",
   "mimetype": "text/x-python",
   "name": "python",
   "nbconvert_exporter": "python",
   "pygments_lexer": "ipython3",
   "version": "3.6.3"
  }
 },
 "nbformat": 4,
 "nbformat_minor": 2
}
