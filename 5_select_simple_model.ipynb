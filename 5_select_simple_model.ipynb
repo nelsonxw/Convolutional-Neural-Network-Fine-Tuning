{
 "cells": [
  {
   "cell_type": "code",
   "execution_count": 1,
   "metadata": {},
   "outputs": [
    {
     "name": "stderr",
     "output_type": "stream",
     "text": [
      "Using TensorFlow backend.\n"
     ]
    }
   ],
   "source": [
    "#import dependencies \n",
    "import os\n",
    "import numpy as np\n",
    "import pandas as pd\n",
    "import tensorflow as tf\n",
    "import keras\n",
    "from keras.preprocessing import image"
   ]
  },
  {
   "cell_type": "code",
   "execution_count": 2,
   "metadata": {},
   "outputs": [
    {
     "name": "stdout",
     "output_type": "stream",
     "text": [
      "Xception 134\n",
      "VGG16 23\n",
      "VGG19 26\n",
      "ResNet50 177\n",
      "InceptionV3 313\n",
      "InceptionResNetV2 782\n",
      "MobileNet 102\n",
      "DenseNet121 428\n",
      "NASNetLarge 1021\n",
      "MobileNetV2 152\n"
     ]
    }
   ],
   "source": [
    "#define the pretrained model list, include all models at Keras and their default image sizes respectively\n",
    "model_list = [\n",
    "    {'model_name': 'Xception','default_dim':(299, 299)},\n",
    "    {'model_name': 'VGG16','default_dim':(224, 224)},\n",
    "    {'model_name': 'VGG19','default_dim':(224, 224)},\n",
    "    {'model_name': 'ResNet50','default_dim':(224, 224)},\n",
    "    {'model_name': 'InceptionV3','default_dim':(299, 299)},\n",
    "    {'model_name': 'InceptionResNetV2','default_dim':(299, 299)},\n",
    "    {'model_name': 'MobileNet','default_dim':(224, 224)},\n",
    "    {'model_name': 'DenseNet121','default_dim':(224, 224)},\n",
    "    {'model_name': 'NASNetLarge','default_dim':(331, 331)},\n",
    "    {'model_name': 'MobileNetV2','default_dim':(224, 224)}\n",
    "]\n",
    "\n",
    "#loop through the model list and capture the prediction accuracy for each model\n",
    "for model in model_list:\n",
    "    selected_model = model['model_name']\n",
    "    image_size = model['default_dim']\n",
    "    if selected_model == 'InceptionV3':\n",
    "        import_module = 'keras.applications.inception_v3'\n",
    "    elif selected_model == 'InceptionResNetV2':\n",
    "        import_module = 'keras.applications.inception_resnet_v2'\n",
    "    elif selected_model == 'DenseNet121':\n",
    "        import_module = 'keras.applications.densenet'\n",
    "    elif selected_model == 'NASNetLarge':\n",
    "        import_module = 'keras.applications.nasnet'\n",
    "    else:\n",
    "        import_module = 'keras.applications.' + selected_model.lower()\n",
    "    \n",
    "    #import model and functions from the module\n",
    "    imported_model = getattr(__import__(import_module, fromlist=[selected_model]), selected_model)\n",
    "    \n",
    "    #create my test model with the imported model\n",
    "    mymodel = imported_model(\n",
    "        include_top=True,\n",
    "        weights='imagenet')\n",
    "    \n",
    "    #print out # of layers in each pre-trained model\n",
    "    print(selected_model,len(mymodel.layers))"
   ]
  },
  {
   "cell_type": "code",
   "execution_count": null,
   "metadata": {
    "collapsed": true
   },
   "outputs": [],
   "source": []
  }
 ],
 "metadata": {
  "kernelspec": {
   "display_name": "Python 3",
   "language": "python",
   "name": "python3"
  },
  "language_info": {
   "codemirror_mode": {
    "name": "ipython",
    "version": 3
   },
   "file_extension": ".py",
   "mimetype": "text/x-python",
   "name": "python",
   "nbconvert_exporter": "python",
   "pygments_lexer": "ipython3",
   "version": "3.6.3"
  }
 },
 "nbformat": 4,
 "nbformat_minor": 2
}
