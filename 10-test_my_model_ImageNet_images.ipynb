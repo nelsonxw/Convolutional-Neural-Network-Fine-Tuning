{
 "cells": [
  {
   "cell_type": "code",
   "execution_count": 1,
   "metadata": {},
   "outputs": [
    {
     "name": "stderr",
     "output_type": "stream",
     "text": [
      "Using TensorFlow backend.\n"
     ]
    }
   ],
   "source": [
    "#import dependencies \n",
    "import os\n",
    "import numpy as np\n",
    "import pandas as pd\n",
    "import tensorflow as tf\n",
    "import keras\n",
    "from keras.preprocessing import image\n",
    "from keras.models import load_model"
   ]
  },
  {
   "cell_type": "code",
   "execution_count": 2,
   "metadata": {
    "collapsed": true
   },
   "outputs": [],
   "source": [
    "#define folder path, flower name list, ouput dictionary and default image size\n",
    "folder_path = \"Data/ImageNet_images/validation/\"\n",
    "flower_list = ['daisy','dandelion','rose','sunflower','tulip']\n",
    "output = {\"flower_name\":[],\"predict_accuracy\":[]}\n",
    "image_size = (224,224)"
   ]
  },
  {
   "cell_type": "code",
   "execution_count": 3,
   "metadata": {
    "collapsed": true
   },
   "outputs": [],
   "source": [
    "#load my fine tuned model\n",
    "mymodel = load_model('my_model_final.h5')"
   ]
  },
  {
   "cell_type": "code",
   "execution_count": 4,
   "metadata": {
    "collapsed": true
   },
   "outputs": [],
   "source": [
    "#loop through all flower names or classes in the flower list\n",
    "for flower in flower_list:\n",
    "    #get the list of image file names under each flower class\n",
    "    image_list = os.listdir(os.path.join(folder_path,flower))\n",
    "    #determine the total image count\n",
    "    total_count = len(image_list)\n",
    "    #set up counter for correct predictions and a list for predicted results\n",
    "    correct_count = 0\n",
    "    predict_result = []\n",
    "    #loop through all image files in the list\n",
    "    for image_file in image_list:\n",
    "        #if there is a windows Thumbs.db file, skip it and correct the total image count\n",
    "        if image_file == 'Thumbs.db':\n",
    "            total_count -= 1\n",
    "        else:\n",
    "            #get the path and file name of each image\n",
    "            image_path = os.path.join(folder_path,flower, image_file)\n",
    "            #load image and pre-process it\n",
    "            img = image.load_img(image_path, target_size=image_size)\n",
    "            x = image.img_to_array(img)\n",
    "            x = np.expand_dims(x, axis=0)\n",
    "            x = x / 255\n",
    "            #predict the flower name with the model\n",
    "            predictions = mymodel.predict(x)\n",
    "            predict_index = np.argmax(predictions, axis=1)[0]\n",
    "            #get the result of predictions and add to list\n",
    "            result = flower_list[predict_index]\n",
    "            #probability = predictions[0][predict_index]\n",
    "            predict_result.append(result)\n",
    "            #if the predicted flower name is same as the flower class name, then correct count increase\n",
    "            if result.lower() == flower:\n",
    "                correct_count += 1\n",
    "    #update the output dictionary with flower class name and prediction accuracy\n",
    "    output[\"flower_name\"].append(flower)\n",
    "    output[\"predict_accuracy\"].append(correct_count / total_count)\n"
   ]
  },
  {
   "cell_type": "code",
   "execution_count": 5,
   "metadata": {},
   "outputs": [
    {
     "data": {
      "text/html": [
       "<div>\n",
       "<style>\n",
       "    .dataframe thead tr:only-child th {\n",
       "        text-align: right;\n",
       "    }\n",
       "\n",
       "    .dataframe thead th {\n",
       "        text-align: left;\n",
       "    }\n",
       "\n",
       "    .dataframe tbody tr th {\n",
       "        vertical-align: top;\n",
       "    }\n",
       "</style>\n",
       "<table border=\"1\" class=\"dataframe\">\n",
       "  <thead>\n",
       "    <tr style=\"text-align: right;\">\n",
       "      <th></th>\n",
       "      <th>flower_name</th>\n",
       "      <th>predict_accuracy</th>\n",
       "    </tr>\n",
       "  </thead>\n",
       "  <tbody>\n",
       "    <tr>\n",
       "      <th>0</th>\n",
       "      <td>daisy</td>\n",
       "      <td>0.900000</td>\n",
       "    </tr>\n",
       "    <tr>\n",
       "      <th>1</th>\n",
       "      <td>dandelion</td>\n",
       "      <td>0.970000</td>\n",
       "    </tr>\n",
       "    <tr>\n",
       "      <th>2</th>\n",
       "      <td>rose</td>\n",
       "      <td>0.960000</td>\n",
       "    </tr>\n",
       "    <tr>\n",
       "      <th>3</th>\n",
       "      <td>sunflower</td>\n",
       "      <td>0.950495</td>\n",
       "    </tr>\n",
       "    <tr>\n",
       "      <th>4</th>\n",
       "      <td>tulip</td>\n",
       "      <td>0.970000</td>\n",
       "    </tr>\n",
       "  </tbody>\n",
       "</table>\n",
       "</div>"
      ],
      "text/plain": [
       "  flower_name  predict_accuracy\n",
       "0       daisy          0.900000\n",
       "1   dandelion          0.970000\n",
       "2        rose          0.960000\n",
       "3   sunflower          0.950495\n",
       "4       tulip          0.970000"
      ]
     },
     "execution_count": 5,
     "metadata": {},
     "output_type": "execute_result"
    }
   ],
   "source": [
    "#read output into pandas and display results\n",
    "df = pd.DataFrame.from_dict(output)\n",
    "df"
   ]
  }
 ],
 "metadata": {
  "kernelspec": {
   "display_name": "Python 3",
   "language": "python",
   "name": "python3"
  },
  "language_info": {
   "codemirror_mode": {
    "name": "ipython",
    "version": 3
   },
   "file_extension": ".py",
   "mimetype": "text/x-python",
   "name": "python",
   "nbconvert_exporter": "python",
   "pygments_lexer": "ipython3",
   "version": "3.6.3"
  }
 },
 "nbformat": 4,
 "nbformat_minor": 2
}
